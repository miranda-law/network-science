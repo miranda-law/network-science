{
 "cells": [
  {
   "cell_type": "code",
   "execution_count": 1,
   "id": "fb8142be",
   "metadata": {},
   "outputs": [],
   "source": [
    "# ==============================================================================\n",
    "# Imports\n",
    "# ==============================================================================\n",
    "import networkx as nx\n",
    "import matplotlib.pyplot as plt\n",
    "import numpy as np\n",
    "import csv\n",
    "from collections import Counter\n",
    "import time"
   ]
  },
  {
   "cell_type": "code",
   "execution_count": 2,
   "id": "c8756045",
   "metadata": {},
   "outputs": [],
   "source": [
    "# Create graph\n",
    "graph = nx.DiGraph()\n",
    "\n",
    "with open(\"email-Enron.txt\") as f:\n",
    "    reader = csv.reader(f, delimiter='\\t')\n",
    "    for line in reader:\n",
    "        start = int(line[0])\n",
    "        end = int(line[1])\n",
    "        graph.add_edge(start, end)\n",
    "\n",
    "# Transform graph from directed to undirected\n",
    "graph = graph.to_undirected()"
   ]
  },
  {
   "cell_type": "code",
   "execution_count": 3,
   "id": "704527c2",
   "metadata": {},
   "outputs": [],
   "source": [
    "# ==============================================================================\n",
    "# 1. Finding the largest connected component\n",
    "# ==============================================================================\n",
    "\n",
    "# 1a. Create a function to recursively assign nodes ============================\n",
    "\"\"\"\n",
    "assign_recursive(): assigns nodes to an unique identifier if they are in the \n",
    "    same connected component\n",
    "    inputs: \n",
    "        g - networkx graph\n",
    "        c - dictionary\n",
    "        starting_node - node from g\n",
    "        identifier - integer value\n",
    "    output: N/A\n",
    "\"\"\"\n",
    "def assign_recursive(g, c, starting_node, identifier):\n",
    "    # Add the key starting_node to c, with value identifier\n",
    "    c[starting_node] = identifier\n",
    "\n",
    "    # Keep track of unlabeled neighbors\n",
    "    unlabeledNeighbors = []\n",
    "\n",
    "    # label all unlabeled neighbors\n",
    "    for z in g.neighbors(starting_node):\n",
    "        if z not in c:\n",
    "            c[z] = identifier\n",
    "            unlabeledNeighbors.append(z)\n",
    "    \n",
    "    # recurse over unlabeled neighbors\n",
    "    for z in unlabeledNeighbors:\n",
    "        assign_recursive(g, c, z, identifier)"
   ]
  },
  {
   "cell_type": "code",
   "execution_count": 4,
   "id": "59dcda95",
   "metadata": {},
   "outputs": [
    {
     "name": "stdout",
     "output_type": "stream",
     "text": [
      "[(1, 33696), (270, 20), (755, 16), (921, 14), (151, 13), (427, 13), (922, 13), (224, 12), (659, 12), (876, 12)]\n"
     ]
    }
   ],
   "source": [
    "# 1b. Compute the connected components =========================================\n",
    "\n",
    "# initialize empty dict to populate with nodes, c[node] = identifier\n",
    "c = {}\n",
    "# unique identifier\n",
    "curr_indentifier = 0\n",
    "\n",
    "for v in graph.nodes():\n",
    "    if v not in c:\n",
    "        # update identifier for each new component\n",
    "        curr_indentifier += 1\n",
    "        assign_recursive(graph, c, v, curr_indentifier)\n",
    "\n",
    "# dict of frequency of identifiers, identifier_count[identifier] = freq\n",
    "identifier_count = dict(Counter(c.values()).items())\n",
    "\n",
    "# sort frequencies into list of tuples [(identifier, freq)] from greatest to least\n",
    "sorted_identifier_count = sorted(identifier_count.items(), key = lambda x: x[1], reverse = True)\n",
    "\n",
    "# print 10 largest connected components\n",
    "# [(1, 33696), (270, 20), (755, 16), (921, 14), (151, 13), (427, 13), (922, 13), (224, 12), (659, 12), (876, 12)]\n",
    "print(sorted_identifier_count[:10])"
   ]
  },
  {
   "cell_type": "code",
   "execution_count": 5,
   "id": "1f899763",
   "metadata": {},
   "outputs": [],
   "source": [
    "# 1c. Remove the nodes not in the largest component ============================\n",
    "\n",
    "# find the identifier for largest component\n",
    "largestCompIdentifier = sorted_identifier_count[0][0]\n",
    "\n",
    "# remove nodes not in largest component\n",
    "for v in c.keys():\n",
    "    if c[v] != largestCompIdentifier:\n",
    "        graph.remove_node(v)"
   ]
  },
  {
   "cell_type": "code",
   "execution_count": 6,
   "id": "c62de794",
   "metadata": {},
   "outputs": [],
   "source": [
    "# ==============================================================================\n",
    "# 2. Implement BFS\n",
    "# ==============================================================================\n",
    "\n",
    "\"\"\"\n",
    "BFS(): runs BFS with source s on graph G\n",
    "    inputs: \n",
    "        s - source node from G\n",
    "        G - networkx graph (connected and undirected)\n",
    "    output: dictionary d such that d[v] is the SP distance of v from s\n",
    "\"\"\"\n",
    "def BFS(G, s):\n",
    "    d = {} # dictionary d[node] = distance of node from source s\n",
    "    queue = [] \n",
    "\n",
    "    # add source\n",
    "    queue.append(s)\n",
    "    d[s] = 0\n",
    "\n",
    "    # while queue is not empty\n",
    "    while len(queue) > 0:\n",
    "        currNode = queue.pop(0)\n",
    "        for neighbor in G.neighbors(currNode):\n",
    "            if neighbor not in d:\n",
    "                queue.append(neighbor)\n",
    "                d[neighbor] = d[currNode] + 1\n",
    "    return d"
   ]
  },
  {
   "cell_type": "code",
   "execution_count": 7,
   "id": "877f937b",
   "metadata": {},
   "outputs": [],
   "source": [
    "# ==============================================================================\n",
    "# 3. Implement the exact algorithm for closeness centrality\n",
    "# ==============================================================================\n",
    "\"\"\"\n",
    "closeness_vertex(): returns the closeness of s in G\n",
    "    inputs: \n",
    "        s - source node from G\n",
    "        G - networkx graph (connected and undirected)\n",
    "    output: closeness of s in G (float)\n",
    "\"\"\"\n",
    "def closeness_vertex(G, s):\n",
    "    # number of nodes\n",
    "    n = len(G.nodes())\n",
    "    distances = BFS(G, s)\n",
    "    sum_distances = 0\n",
    "\n",
    "    # caluclate sum of all distances\n",
    "    for dist in distances.values():\n",
    "        sum_distances += dist\n",
    "\n",
    "    closeness = (n-1)/sum_distances\n",
    "    return closeness\n",
    "\n",
    "\"\"\"\n",
    "closeness(): returns a dictionary cc s.t. cc[v] is the closeness of vertex v\n",
    "    input: \n",
    "        G - networkx graph (connected and undirected)\n",
    "    output: dictionary cc s.t. cc[v] is the closeness of vertex v\n",
    "\"\"\"\n",
    "def closeness(G):\n",
    "    cc = {}\n",
    "    for v in G.nodes():\n",
    "        cc[v] = closeness_vertex(G, v)\n",
    "    return cc"
   ]
  },
  {
   "cell_type": "code",
   "execution_count": 8,
   "id": "3d0d4c79",
   "metadata": {},
   "outputs": [],
   "source": [
    "# exact functions as above but using networkx implementation of BFS\n",
    "def closeness_vertex_nx(G, s):\n",
    "    # number of nodes\n",
    "    n = len(G.nodes())\n",
    "    distances = nx.shortest_path_length(G, source = s)\n",
    "    sum_distances = 0\n",
    "\n",
    "    # caluclate sum of all distances\n",
    "    for dist in distances.values():\n",
    "        sum_distances += dist\n",
    "\n",
    "    closeness = (n-1)/sum_distances\n",
    "    return closeness\n",
    "\n",
    "def closeness_nx(G):\n",
    "    cc = {}\n",
    "    for v in G.nodes():\n",
    "        cc[v] = closeness_vertex_nx(G, v)\n",
    "    return cc"
   ]
  },
  {
   "cell_type": "code",
   "execution_count": 9,
   "id": "197eee28",
   "metadata": {},
   "outputs": [
    {
     "name": "stdout",
     "output_type": "stream",
     "text": [
      "1648.576646566391\n"
     ]
    }
   ],
   "source": [
    "# Exact time to run the algorithm for closeness centrality \n",
    "cc_start = time.time()\n",
    "cc = closeness_nx(graph)\n",
    "cc_end = time.time()\n",
    "cc_time = cc_end - cc_start\n",
    "print(cc_time)"
   ]
  },
  {
   "cell_type": "code",
   "execution_count": 10,
   "id": "3799f25c",
   "metadata": {},
   "outputs": [
    {
     "data": {
      "text/plain": [
       "27.476277442773185"
      ]
     },
     "execution_count": 10,
     "metadata": {},
     "output_type": "execute_result"
    }
   ],
   "source": [
    "cc_time/60"
   ]
  },
  {
   "cell_type": "code",
   "execution_count": 11,
   "id": "eebe13b1",
   "metadata": {},
   "outputs": [
    {
     "name": "stdout",
     "output_type": "stream",
     "text": [
      "[(136, 0.3873700910512278), (76, 0.3861183049526734), (46, 0.3790810701347794), (140, 0.37475531630928016), (370, 0.374522052285257), (292, 0.37433481830402277), (195, 0.37398996625821346), (734, 0.3739567610760898), (175, 0.373790823571175), (416, 0.3723410133156528), (1139, 0.36917126829695857), (458, 0.36829564209905014), (444, 0.36808643121661333), (566, 0.36778510303877054), (353, 0.36742015331435984)]\n"
     ]
    }
   ],
   "source": [
    "# sort scores into list of tuples [(node, score)] from greatest to least\n",
    "sorted_cc =  sorted(cc.items(), key = lambda x: x[1], reverse = True)\n",
    "\n",
    "# print 15 highest closeness centrality\n",
    "# [(136, 0.3873700910512278), (76, 0.3861183049526734), (46, 0.3790810701347794), \n",
    "# (140, 0.37475531630928016), (370, 0.374522052285257), (292, 0.37433481830402277), \n",
    "# (195, 0.37398996625821346), (734, 0.3739567610760898), (175, 0.373790823571175), \n",
    "# (416, 0.3723410133156528), (1139, 0.36917126829695857), (458, 0.36829564209905014), \n",
    "# (444, 0.36808643121661333), (566, 0.36778510303877054), (353, 0.36742015331435984)]\n",
    "print(sorted_cc[:15])"
   ]
  },
  {
   "cell_type": "code",
   "execution_count": 12,
   "id": "c71f48bc",
   "metadata": {},
   "outputs": [],
   "source": [
    "# ==============================================================================\n",
    "# 4. Implement the Eppstein-Wang approximation algorithm\n",
    "# ==============================================================================\n",
    "\n",
    "\"\"\"\n",
    "ewapproxcloseness(): approximates closeness of each vertex in a graph\n",
    "    inputs: \n",
    "        G - networkx graph (connected and undirected)\n",
    "        k - sample size (int)\n",
    "    output: \n",
    "        tuple (acc, sources) where:\n",
    "            acc is a dictionary s.t. acc[v] is the approximate closeness of\n",
    "            vertex v computed using k samples\n",
    "            sources is a list of the sources used by the algorithm\n",
    "\"\"\"\n",
    "def ewapproxcloseness(G, k):\n",
    "    sources = np.random.choice(G.nodes(), size = k)\n",
    "    acc = {}\n",
    "    n = len(G.nodes())\n",
    "\n",
    "    distances = {} \n",
    "\n",
    "    # calculate exact closeness centrality for sources\n",
    "    for v_i in sources:\n",
    "        distances[v_i] = BFS(G, v_i)\n",
    "\n",
    "    # iterate through each node in G\n",
    "    for v in G.nodes():\n",
    "        if v not in sources:\n",
    "            approxCentrality = 0.0\n",
    "            # run k iterations for each node\n",
    "            for i in range(1, k+1):\n",
    "                approxCentrality += n*distances[sources[i-1]][v]/(k*(n-1))\n",
    "\n",
    "            acc[v] = 1/approxCentrality\n",
    "        else:\n",
    "            acc[v] = closeness_vertex(G, v)\n",
    "\n",
    "    return (acc, sources)"
   ]
  },
  {
   "cell_type": "code",
   "execution_count": 13,
   "id": "d9e45c28",
   "metadata": {},
   "outputs": [],
   "source": [
    "def ewapproxcloseness_nx(G, k):\n",
    "    sources = np.random.choice(G.nodes(), size = k)\n",
    "    acc = {}\n",
    "    n = len(G.nodes())\n",
    "\n",
    "    distances = {} \n",
    "\n",
    "    # calculate exact closeness centrality for sources\n",
    "    for v_i in sources:\n",
    "        distances[v_i] = nx.shortest_path_length(G, source = v_i)\n",
    "\n",
    "    # iterate through each node in G\n",
    "    for v in G.nodes():\n",
    "        if v not in sources:\n",
    "            approxCentrality = 0.0\n",
    "            # run k iterations for each node\n",
    "            for i in range(1, k+1):\n",
    "                approxCentrality += n*distances[sources[i-1]][v]/(k*(n-1))\n",
    "\n",
    "            acc[v] = 1/approxCentrality\n",
    "        else:\n",
    "            acc[v] = closeness_vertex_nx(G, v)\n",
    "\n",
    "    return (acc, sources)"
   ]
  },
  {
   "cell_type": "code",
   "execution_count": 14,
   "id": "a352b520",
   "metadata": {},
   "outputs": [],
   "source": [
    "k_values = [2500, 5000, 7500, 10000, 12500]\n",
    "k_ewapprox_times = {} # run times in minutes based on k value\n",
    "k_ewapprox = {} # output per k value\n",
    "\n",
    "for value in k_values:\n",
    "    start = time.time()\n",
    "    testRun = ewapproxcloseness_nx(graph, value)\n",
    "    end = time.time()\n",
    "    \n",
    "    k_ewapprox[value] = testRun\n",
    "    k_ewapprox_times[value] = (end - start)/60"
   ]
  },
  {
   "cell_type": "code",
   "execution_count": 15,
   "id": "c1d96528",
   "metadata": {},
   "outputs": [
    {
     "data": {
      "image/png": "[encoded data removed]",
      "text/plain": [
       "<Figure size 432x288 with 1 Axes>"
      ]
     },
     "metadata": {
      "needs_background": "light"
     },
     "output_type": "display_data"
    }
   ],
   "source": [
    "plt.axhline(y = cc_time/60, color = 'r', label = 'exact')\n",
    "plt.plot(k_ewapprox_times.keys(), k_ewapprox_times.values(), marker='o', label = 'approx')\n",
    "plt.xlabel('k (# of iterations)') \n",
    "plt.ylabel('Time (minutes)')\n",
    "plt.legend(loc= 'lower right')\n",
    "  \n",
    "# displaying the title\n",
    "plt.title(\"Runtimes of algorithms\")\n",
    "plt.show()"
   ]
  },
  {
   "cell_type": "code",
   "execution_count": 16,
   "id": "04aab3da",
   "metadata": {},
   "outputs": [
    {
     "name": "stdout",
     "output_type": "stream",
     "text": [
      "{2500: 4.862294209003449, 5000: 9.6032501856486, 7500: 14.183581137657166, 10000: 22.33936465581258, 12500: 23.120983095963798}\n"
     ]
    }
   ],
   "source": [
    "print(k_ewapprox_times)"
   ]
  },
  {
   "cell_type": "code",
   "execution_count": 17,
   "id": "2642fc54",
   "metadata": {},
   "outputs": [],
   "source": [
    "distOfErrors = {}\n",
    "# For the same values of k as above, \n",
    "# plot the minimum, 1st quartile, median, third quartile, and maximum of the distribution of the error |cc[v] - acc[v]| \n",
    "# over all vertices. \n",
    "# Comment on what you observe, both in terms of the behavior as k varies, and in terms of the distribution for fixed k.\n",
    "for v in graph.nodes():\n",
    "    errors = []\n",
    "    for value in k_values:\n",
    "        currError = abs(cc[v] - k_ewapprox[value][0][v])\n",
    "        errors.append(currError)\n",
    "    #distOfErrors.append(errors)\n",
    "    distOfErrors[v] = errors"
   ]
  },
  {
   "cell_type": "code",
   "execution_count": 18,
   "id": "2c48c244",
   "metadata": {},
   "outputs": [],
   "source": [
    "distOfErrors = []\n",
    "for value in k_values:\n",
    "    errors = []\n",
    "    for v in graph.nodes():\n",
    "        currError = abs(cc[v] - k_ewapprox[value][0][v])\n",
    "        errors.append(currError)\n",
    "    distOfErrors.append(errors)\n",
    "    #distOfErrors[value] = errors"
   ]
  },
  {
   "cell_type": "code",
   "execution_count": 19,
   "id": "838eb47b",
   "metadata": {},
   "outputs": [
    {
     "data": {
      "image/png": "[encoded data removed]",
      "text/plain": [
       "<Figure size 432x288 with 1 Axes>"
      ]
     },
     "metadata": {
      "needs_background": "light"
     },
     "output_type": "display_data"
    }
   ],
   "source": [
    "plt.boxplot(distOfErrors, labels = k_values) \n",
    "plt.ylabel('Error')\n",
    "plt.title('Distribution of Error')\n",
    "plt.show()"
   ]
  },
  {
   "cell_type": "code",
   "execution_count": 20,
   "id": "f1b4fa6f",
   "metadata": {},
   "outputs": [],
   "source": [
    "distOfErrors_noSources = []\n",
    "for value in k_values:\n",
    "    errors = []\n",
    "    for v in graph.nodes():\n",
    "        sources = k_ewapprox[value][1]\n",
    "        if v not in sources:\n",
    "            currError = abs(cc[v] - k_ewapprox[value][0][v])\n",
    "            errors.append(currError)\n",
    "    distOfErrors_noSources.append(errors)"
   ]
  },
  {
   "cell_type": "code",
   "execution_count": 21,
   "id": "c30b28db",
   "metadata": {},
   "outputs": [
    {
     "data": {
      "image/png": "[encoded data removed]",
      "text/plain": [
       "<Figure size 432x288 with 1 Axes>"
      ]
     },
     "metadata": {
      "needs_background": "light"
     },
     "output_type": "display_data"
    }
   ],
   "source": [
    "plt.boxplot(distOfErrors_noSources, labels = k_values) \n",
    "plt.ylabel('Error')\n",
    "plt.title('Distribution of Error (excluding sources)')\n",
    "plt.show()"
   ]
  },
  {
   "cell_type": "code",
   "execution_count": null,
   "id": "10c99480",
   "metadata": {},
   "outputs": [],
   "source": []
  }
 ],
 "metadata": {
  "kernelspec": {
   "display_name": "Python 3 (ipykernel)",
   "language": "python",
   "name": "python3"
  },
  "language_info": {
   "codemirror_mode": {
    "name": "ipython",
    "version": 3
   },
   "file_extension": ".py",
   "mimetype": "text/x-python",
   "name": "python",
   "nbconvert_exporter": "python",
   "pygments_lexer": "ipython3",
   "version": "3.9.12"
  }
 },
 "nbformat": 4,
 "nbformat_minor": 5
}
